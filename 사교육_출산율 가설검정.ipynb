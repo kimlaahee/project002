{
 "cells": [
  {
   "cell_type": "code",
   "execution_count": 1,
   "id": "497ee295",
   "metadata": {},
   "outputs": [
    {
     "name": "stdout",
     "output_type": "stream",
     "text": [
      "공분산: -48.53\n",
      "상관계수: -0.90\n",
      "P-value: 0.0003\n",
      "                            OLS Regression Results                            \n",
      "==============================================================================\n",
      "Dep. Variable:               bir_rate   R-squared:                       0.817\n",
      "Model:                            OLS   Adj. R-squared:                  0.794\n",
      "Method:                 Least Squares   F-statistic:                     35.77\n",
      "Date:                Thu, 29 Aug 2024   Prob (F-statistic):           0.000330\n",
      "Time:                        09:14:00   Log-Likelihood:                -25.738\n",
      "No. Observations:                  10   AIC:                             55.48\n",
      "Df Residuals:                       8   BIC:                             56.08\n",
      "Df Model:                           1                                         \n",
      "Covariance Type:            nonrobust                                         \n",
      "==============================================================================\n",
      "                 coef    std err          t      P>|t|      [0.025      0.975]\n",
      "------------------------------------------------------------------------------\n",
      "const         65.6447      5.527     11.878      0.000      52.900      78.389\n",
      "pri_edu       -1.0311      0.172     -5.981      0.000      -1.429      -0.634\n",
      "==============================================================================\n",
      "Omnibus:                        1.803   Durbin-Watson:                   0.851\n",
      "Prob(Omnibus):                  0.406   Jarque-Bera (JB):                0.861\n",
      "Skew:                          -0.703   Prob(JB):                        0.650\n",
      "Kurtosis:                       2.702   Cond. No.                         158.\n",
      "==============================================================================\n",
      "\n",
      "Notes:\n",
      "[1] Standard Errors assume that the covariance matrix of the errors is correctly specified.\n"
     ]
    },
    {
     "name": "stderr",
     "output_type": "stream",
     "text": [
      "C:\\Users\\user\\anaconda3\\lib\\site-packages\\scipy\\stats\\stats.py:1541: UserWarning: kurtosistest only valid for n>=20 ... continuing anyway, n=10\n",
      "  warnings.warn(\"kurtosistest only valid for n>=20 ... continuing \"\n"
     ]
    },
    {
     "data": {
      "image/png": "[encoded data removed]",
      "text/plain": [
       "<Figure size 720x432 with 1 Axes>"
      ]
     },
     "metadata": {
      "needs_background": "light"
     },
     "output_type": "display_data"
    },
    {
     "name": "stdout",
     "output_type": "stream",
     "text": [
      "1.8118839761882553e-14\n"
     ]
    }
   ],
   "source": [
    "# 사교육 비용 대비 출산율 변동 \n",
    "import pandas as pd\n",
    "import numpy as np\n",
    "import statsmodels.api as sm\n",
    "import scipy.stats as stats\n",
    "import matplotlib.pyplot as plt\n",
    "from matplotlib import font_manager, rc\n",
    "from sklearn.linear_model import LinearRegression\n",
    "\n",
    "data2 = {\n",
    "    'pri_edu': [24.2, 24.4, 25.6, 27.2, 29.1, 32.1, 30.2, 36.7, 41.0, 43.4],  # 사교육비 (단위: 만원)\n",
    "    'bir_rate': [43.9, 44.4, 41.2, 36.2, 33.4, 30.8, 27.6, 26.3, 25.5, 23.5]   # 출생율 (단위: 만명)\n",
    "}\n",
    "\n",
    "df2 = pd.DataFrame(data2)\n",
    "\n",
    "x= df2['pri_edu']\n",
    "y = df2['bir_rate']\n",
    "\n",
    "# 상관계수, 공분산 - 두 변수 상관 정도 + p-value\n",
    "print('공분산: {:.2f}'.format(np.cov(x,y)[0,1])) # -48.53\n",
    "\n",
    "print('상관계수: {:.2f}'.format(stats.pearsonr(x,y)[0])) # -0.9\n",
    "\n",
    "# -1 < (상관계수) < 1 \n",
    "# => 1에 가까울 수록 강한 양의 상관관계\n",
    "# => -1에 가까울 수록 강한 음의 상관관계\n",
    "print('P-value: {:.4f}'.format(stats.pearsonr(x,y)[1])) # 0.0003\n",
    "\n",
    "# 가설 검증\n",
    "\n",
    "x2= sm.add_constant(x)      # 절편 만들기 \n",
    "\n",
    "m2 = sm.OLS(y, x2).fit()\n",
    "\n",
    "print(m2.summary())\n",
    "\n",
    "# 한글 폰트\n",
    "font_path='NanumGothic.ttf' \n",
    "font_name=font_manager.FontProperties(fname=font_path).get_name()\n",
    "rc('font',family=font_name) \n",
    "\n",
    "# 시각화\n",
    "plt.figure(figsize=(10,6))\n",
    "plt.scatter(df2['pri_edu'], df2['bir_rate'], color='green', label='실제값')\n",
    "\n",
    "plt.plot(df2['pri_edu'], m2.fittedvalues, color='blue', label='회귀선')\n",
    "plt.xlabel('사교육 비용(만 원)')\n",
    "plt.ylabel('출산율(만 명)')\n",
    "plt.title('사교육 비용 대비 출산율 변화 추이', pad=20)\n",
    "plt.legend()\n",
    "plt.savefig('사교육 대비 출산율 변화 추이.jpg')\n",
    "plt.show()\n",
    "\n",
    "# 사교육 비용이 1만원이 오를수록, 출산 정도가 약 1만명씩 감소한다\n",
    "# 사교육 비용과 출산율 간 상관성은 -0.90 로 강한 음의 상관성을 띈다\n",
    "# p-value는 0.0003 으로 유의미하기 때문에 영가설 기각, 대립가설 채택\n",
    "# 결정계수(R-Squared) : 0.817 => 회귀식 신뢰도↑\n",
    "\n",
    "# 잔차의 평균\n",
    "\n",
    "residuals = y - m2.fittedvalues\n",
    "print(residuals.mean()) \n",
    "\n",
    "# 1.8118839761882553e-14\n"
   ]
  }
 ],
 "metadata": {
  "kernelspec": {
   "display_name": "Python 3 (ipykernel)",
   "language": "python",
   "name": "python3"
  },
  "language_info": {
   "codemirror_mode": {
    "name": "ipython",
    "version": 3
   },
   "file_extension": ".py",
   "mimetype": "text/x-python",
   "name": "python",
   "nbconvert_exporter": "python",
   "pygments_lexer": "ipython3",
   "version": "3.9.12"
  }
 },
 "nbformat": 4,
 "nbformat_minor": 5
}
